{
 "cells": [
  {
   "cell_type": "code",
   "execution_count": null,
   "metadata": {},
   "outputs": [],
   "source": []
  },
  {
   "cell_type": "markdown",
   "metadata": {},
   "source": [
    "TO DO's\n",
    "\n",
    "Iterate through multiple pages, appending links to lead_links list\n",
    "\n",
    "Create lead list excel document\n",
    "    Insert into Cell A1 lead list name\n",
    "    Insert into A column lead_links links\n",
    "    Save document with name of lead list without bracket notes\n",
    "\n",
    "\n",
    "Future Improvements:\n",
    "\n",
    "Divide into fuctions\n",
    "\n",
    "Find lead list through link instead of name\n",
    "\n",
    "Work as a web app"
   ]
  }
 ],
 "metadata": {
  "interpreter": {
   "hash": "aead5093f1b99d0ee7a3436e4e2ab5541e93f27f6f01e9c84f43bdb6223b49f6"
  },
  "kernelspec": {
   "display_name": "Python 3.9.5 64-bit ('LinkedScraperSel-jfFM4bZ0': pipenv)",
   "name": "python3"
  },
  "language_info": {
   "name": "python",
   "version": ""
  },
  "orig_nbformat": 4
 },
 "nbformat": 4,
 "nbformat_minor": 2
}